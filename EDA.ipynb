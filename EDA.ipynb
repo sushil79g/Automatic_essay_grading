{
 "cells": [
  {
   "cell_type": "code",
   "execution_count": 1,
   "metadata": {},
   "outputs": [],
   "source": [
    "import numpy as np\n",
    "import pandas as pd\n",
    "import matplotlib.pyplot as plt\n",
    "import seaborn as sns\n",
    "%matplotlib inline"
   ]
  },
  {
   "cell_type": "code",
   "execution_count": 2,
   "metadata": {},
   "outputs": [],
   "source": [
    "filter_data = pd.read_csv('filter_data.csv', sep='\\t')"
   ]
  },
  {
   "cell_type": "code",
   "execution_count": 3,
   "metadata": {},
   "outputs": [
    {
     "data": {
      "text/html": [
       "<div>\n",
       "<style scoped>\n",
       "    .dataframe tbody tr th:only-of-type {\n",
       "        vertical-align: middle;\n",
       "    }\n",
       "\n",
       "    .dataframe tbody tr th {\n",
       "        vertical-align: top;\n",
       "    }\n",
       "\n",
       "    .dataframe thead th {\n",
       "        text-align: right;\n",
       "    }\n",
       "</style>\n",
       "<table border=\"1\" class=\"dataframe\">\n",
       "  <thead>\n",
       "    <tr style=\"text-align: right;\">\n",
       "      <th></th>\n",
       "      <th>Unnamed: 0</th>\n",
       "      <th>essay</th>\n",
       "      <th>domain1_score</th>\n",
       "      <th>word_length</th>\n",
       "      <th>no_of_sentence</th>\n",
       "      <th>sentiment_essay</th>\n",
       "      <th>avg_word_len</th>\n",
       "      <th>Grammar_check</th>\n",
       "    </tr>\n",
       "  </thead>\n",
       "  <tbody>\n",
       "    <tr>\n",
       "      <th>0</th>\n",
       "      <td>0</td>\n",
       "      <td>Dear local newspaper, I think effects computer...</td>\n",
       "      <td>8</td>\n",
       "      <td>343</td>\n",
       "      <td>16</td>\n",
       "      <td>0.310471</td>\n",
       "      <td>4.358601</td>\n",
       "      <td>11</td>\n",
       "    </tr>\n",
       "    <tr>\n",
       "      <th>1</th>\n",
       "      <td>1</td>\n",
       "      <td>Dear @CAPS1 @CAPS2, I believe that using compu...</td>\n",
       "      <td>9</td>\n",
       "      <td>422</td>\n",
       "      <td>20</td>\n",
       "      <td>0.274000</td>\n",
       "      <td>4.331754</td>\n",
       "      <td>19</td>\n",
       "    </tr>\n",
       "    <tr>\n",
       "      <th>2</th>\n",
       "      <td>2</td>\n",
       "      <td>Dear, @CAPS1 @CAPS2 @CAPS3 More and more peopl...</td>\n",
       "      <td>7</td>\n",
       "      <td>283</td>\n",
       "      <td>14</td>\n",
       "      <td>0.340393</td>\n",
       "      <td>4.356890</td>\n",
       "      <td>9</td>\n",
       "    </tr>\n",
       "    <tr>\n",
       "      <th>3</th>\n",
       "      <td>3</td>\n",
       "      <td>Dear Local Newspaper, @CAPS1 I have found that...</td>\n",
       "      <td>10</td>\n",
       "      <td>527</td>\n",
       "      <td>27</td>\n",
       "      <td>0.266828</td>\n",
       "      <td>4.851992</td>\n",
       "      <td>35</td>\n",
       "    </tr>\n",
       "    <tr>\n",
       "      <th>4</th>\n",
       "      <td>4</td>\n",
       "      <td>Dear @LOCATION1, I know having computers has a...</td>\n",
       "      <td>8</td>\n",
       "      <td>470</td>\n",
       "      <td>30</td>\n",
       "      <td>0.199684</td>\n",
       "      <td>4.378723</td>\n",
       "      <td>17</td>\n",
       "    </tr>\n",
       "  </tbody>\n",
       "</table>\n",
       "</div>"
      ],
      "text/plain": [
       "   Unnamed: 0                                              essay  \\\n",
       "0           0  Dear local newspaper, I think effects computer...   \n",
       "1           1  Dear @CAPS1 @CAPS2, I believe that using compu...   \n",
       "2           2  Dear, @CAPS1 @CAPS2 @CAPS3 More and more peopl...   \n",
       "3           3  Dear Local Newspaper, @CAPS1 I have found that...   \n",
       "4           4  Dear @LOCATION1, I know having computers has a...   \n",
       "\n",
       "   domain1_score  word_length  no_of_sentence  sentiment_essay  avg_word_len  \\\n",
       "0              8          343              16         0.310471      4.358601   \n",
       "1              9          422              20         0.274000      4.331754   \n",
       "2              7          283              14         0.340393      4.356890   \n",
       "3             10          527              27         0.266828      4.851992   \n",
       "4              8          470              30         0.199684      4.378723   \n",
       "\n",
       "   Grammar_check  \n",
       "0             11  \n",
       "1             19  \n",
       "2              9  \n",
       "3             35  \n",
       "4             17  "
      ]
     },
     "execution_count": 3,
     "metadata": {},
     "output_type": "execute_result"
    }
   ],
   "source": [
    "filter_data.head(5)"
   ]
  },
  {
   "cell_type": "code",
   "execution_count": 4,
   "metadata": {},
   "outputs": [
    {
     "data": {
      "text/plain": [
       "<matplotlib.axes._subplots.AxesSubplot at 0x25ceb68d080>"
      ]
     },
     "execution_count": 4,
     "metadata": {},
     "output_type": "execute_result"
    },
    {
     "data": {
      "image/png": "[encoded data removed]",
      "text/plain": [
       "<Figure size 432x288 with 1 Axes>"
      ]
     },
     "metadata": {},
     "output_type": "display_data"
    }
   ],
   "source": [
    "sns.countplot(x=filter_data['domain1_score'])"
   ]
  },
  {
   "cell_type": "markdown",
   "metadata": {},
   "source": [
    "#### maximum people are getting  3 out of 50"
   ]
  },
  {
   "cell_type": "code",
   "execution_count": 6,
   "metadata": {},
   "outputs": [],
   "source": [
    "def classify_score(x):\n",
    "    if x>=0 and x<10:\n",
    "        return '<10'\n",
    "    elif x>=10 and x<20:\n",
    "        return '10To20'\n",
    "    elif x>=20 and x<30:\n",
    "        return '20To30'\n",
    "    elif x>=30 and x<40:\n",
    "        return '30To40'\n",
    "    else:\n",
    "        return '40To50'\n",
    "filter_data['score_class'] = filter_data['domain1_score'].apply(classify_score)"
   ]
  },
  {
   "cell_type": "code",
   "execution_count": 8,
   "metadata": {},
   "outputs": [
    {
     "data": {
      "text/plain": [
       "<matplotlib.axes._subplots.AxesSubplot at 0x25cebc06748>"
      ]
     },
     "execution_count": 8,
     "metadata": {},
     "output_type": "execute_result"
    },
    {
     "data": {
      "image/png": "[encoded data removed]",
      "text/plain": [
       "<Figure size 432x288 with 1 Axes>"
      ]
     },
     "metadata": {},
     "output_type": "display_data"
    }
   ],
   "source": [
    "sns.countplot(x=filter_data['score_class'])"
   ]
  },
  {
   "cell_type": "code",
   "execution_count": 34,
   "metadata": {},
   "outputs": [
    {
     "data": {
      "image/png": "[encoded data removed]",
      "text/plain": [
       "<Figure size 576x432 with 1 Axes>"
      ]
     },
     "metadata": {},
     "output_type": "display_data"
    }
   ],
   "source": [
    "a = filter_data['score_class'].value_counts()\n",
    "b = a.tolist()\n",
    "plt.figure(figsize=(8,6))\n",
    "explode = (0.1, 0.1, 0.1, 0.1,0.1)\n",
    "label = ['<10','10T020','20To30','30To40','40To50']\n",
    "colors = ['gold', 'yellowgreen', 'lightcoral', 'lightskyblue','red']\n",
    "plt.pie(a, explode=explode,colors=colors,labels=label ,autopct='%1.1f%%', shadow=True, startangle=140)\n",
    " \n",
    "plt.axis('equal')\n",
    "plt.show()\n"
   ]
  },
  {
   "cell_type": "markdown",
   "metadata": {},
   "source": [
    "#### About 80% essay score less than 10 grade"
   ]
  },
  {
   "cell_type": "code",
   "execution_count": 35,
   "metadata": {},
   "outputs": [],
   "source": [
    "filter_data = filter_data.drop('Unnamed: 0',axis=1)"
   ]
  },
  {
   "cell_type": "code",
   "execution_count": 38,
   "metadata": {},
   "outputs": [
    {
     "data": {
      "text/html": [
       "<div>\n",
       "<style scoped>\n",
       "    .dataframe tbody tr th:only-of-type {\n",
       "        vertical-align: middle;\n",
       "    }\n",
       "\n",
       "    .dataframe tbody tr th {\n",
       "        vertical-align: top;\n",
       "    }\n",
       "\n",
       "    .dataframe thead th {\n",
       "        text-align: right;\n",
       "    }\n",
       "</style>\n",
       "<table border=\"1\" class=\"dataframe\">\n",
       "  <thead>\n",
       "    <tr style=\"text-align: right;\">\n",
       "      <th></th>\n",
       "      <th>domain1_score</th>\n",
       "      <th>word_length</th>\n",
       "      <th>no_of_sentence</th>\n",
       "      <th>sentiment_essay</th>\n",
       "      <th>avg_word_len</th>\n",
       "      <th>Grammar_check</th>\n",
       "    </tr>\n",
       "  </thead>\n",
       "  <tbody>\n",
       "    <tr>\n",
       "      <th>count</th>\n",
       "      <td>12976.000000</td>\n",
       "      <td>12976.000000</td>\n",
       "      <td>12976.000000</td>\n",
       "      <td>12976.000000</td>\n",
       "      <td>12976.000000</td>\n",
       "      <td>12976.000000</td>\n",
       "    </tr>\n",
       "    <tr>\n",
       "      <th>mean</th>\n",
       "      <td>6.800247</td>\n",
       "      <td>224.705379</td>\n",
       "      <td>12.716091</td>\n",
       "      <td>0.136558</td>\n",
       "      <td>4.291568</td>\n",
       "      <td>10.499846</td>\n",
       "    </tr>\n",
       "    <tr>\n",
       "      <th>std</th>\n",
       "      <td>8.970705</td>\n",
       "      <td>178.372056</td>\n",
       "      <td>11.151927</td>\n",
       "      <td>0.167243</td>\n",
       "      <td>0.348191</td>\n",
       "      <td>9.636707</td>\n",
       "    </tr>\n",
       "    <tr>\n",
       "      <th>min</th>\n",
       "      <td>0.000000</td>\n",
       "      <td>2.000000</td>\n",
       "      <td>1.000000</td>\n",
       "      <td>-1.000000</td>\n",
       "      <td>2.900000</td>\n",
       "      <td>0.000000</td>\n",
       "    </tr>\n",
       "    <tr>\n",
       "      <th>25%</th>\n",
       "      <td>2.000000</td>\n",
       "      <td>99.000000</td>\n",
       "      <td>5.000000</td>\n",
       "      <td>0.036111</td>\n",
       "      <td>4.065355</td>\n",
       "      <td>4.000000</td>\n",
       "    </tr>\n",
       "    <tr>\n",
       "      <th>50%</th>\n",
       "      <td>3.000000</td>\n",
       "      <td>164.000000</td>\n",
       "      <td>9.000000</td>\n",
       "      <td>0.126519</td>\n",
       "      <td>4.303447</td>\n",
       "      <td>8.000000</td>\n",
       "    </tr>\n",
       "    <tr>\n",
       "      <th>75%</th>\n",
       "      <td>8.000000</td>\n",
       "      <td>311.000000</td>\n",
       "      <td>18.000000</td>\n",
       "      <td>0.225000</td>\n",
       "      <td>4.533932</td>\n",
       "      <td>14.000000</td>\n",
       "    </tr>\n",
       "    <tr>\n",
       "      <th>max</th>\n",
       "      <td>60.000000</td>\n",
       "      <td>1071.000000</td>\n",
       "      <td>96.000000</td>\n",
       "      <td>1.000000</td>\n",
       "      <td>5.909091</td>\n",
       "      <td>128.000000</td>\n",
       "    </tr>\n",
       "  </tbody>\n",
       "</table>\n",
       "</div>"
      ],
      "text/plain": [
       "       domain1_score   word_length  no_of_sentence  sentiment_essay  \\\n",
       "count   12976.000000  12976.000000    12976.000000     12976.000000   \n",
       "mean        6.800247    224.705379       12.716091         0.136558   \n",
       "std         8.970705    178.372056       11.151927         0.167243   \n",
       "min         0.000000      2.000000        1.000000        -1.000000   \n",
       "25%         2.000000     99.000000        5.000000         0.036111   \n",
       "50%         3.000000    164.000000        9.000000         0.126519   \n",
       "75%         8.000000    311.000000       18.000000         0.225000   \n",
       "max        60.000000   1071.000000       96.000000         1.000000   \n",
       "\n",
       "       avg_word_len  Grammar_check  \n",
       "count  12976.000000   12976.000000  \n",
       "mean       4.291568      10.499846  \n",
       "std        0.348191       9.636707  \n",
       "min        2.900000       0.000000  \n",
       "25%        4.065355       4.000000  \n",
       "50%        4.303447       8.000000  \n",
       "75%        4.533932      14.000000  \n",
       "max        5.909091     128.000000  "
      ]
     },
     "execution_count": 38,
     "metadata": {},
     "output_type": "execute_result"
    }
   ],
   "source": [
    "filter_data.describe()"
   ]
  },
  {
   "cell_type": "markdown",
   "metadata": {},
   "source": [
    "- Essays in dataset has average 225 words with a essay having maximum of 1071 words\n",
    "\n",
    "- Essays in dataset has average of 12 sentences \n",
    "\n",
    "- On average essays has slightly positive\n",
    "\n",
    "- On average people has 10 Grammatical errors "
   ]
  },
  {
   "cell_type": "code",
   "execution_count": null,
   "metadata": {},
   "outputs": [],
   "source": []
  }
 ],
 "metadata": {
  "kernelspec": {
   "display_name": "Python 3",
   "language": "python",
   "name": "python3"
  },
  "language_info": {
   "codemirror_mode": {
    "name": "ipython",
    "version": 3
   },
   "file_extension": ".py",
   "mimetype": "text/x-python",
   "name": "python",
   "nbconvert_exporter": "python",
   "pygments_lexer": "ipython3",
   "version": "3.6.4"
  }
 },
 "nbformat": 4,
 "nbformat_minor": 2
}
